{
 "cells": [
  {
   "cell_type": "markdown",
   "metadata": {},
   "source": [
    "# DNA and Protein Sequence Analysis Functions"
   ]
  },
  {
   "cell_type": "markdown",
   "metadata": {},
   "source": [
    "# Primers and melting temperature"
   ]
  },
  {
   "cell_type": "markdown",
   "metadata": {},
   "source": [
    "### Reading a DNA sequence from a file\n",
    "\n",
    "The readDNAsequence function is designed to open a FASTA file and skip the header (the line that starts with >). It reads the remaining lines, replacing any U characters with T to handle RNA-to-DNA conversion, and checks if the sequence contains any invalid DNA characters (other than A, C, T, or G). If an invalid character is found, a custom BadSequenceException is raised. The function returns the cleaned DNA sequence as a string. The test code ensures that this function works correctly by writing a sample sequence to a file, reading it back, and checking the output."
   ]
  },
  {
   "cell_type": "code",
   "execution_count": 1,
   "metadata": {
    "tags": []
   },
   "outputs": [],
   "source": [
    "import os\n",
    "import os.path"
   ]
  },
  {
   "cell_type": "code",
   "execution_count": 2,
   "metadata": {
    "tags": []
   },
   "outputs": [],
   "source": [
    "class BadSequenceException(Exception):\n",
    "    pass"
   ]
  },
  {
   "cell_type": "code",
   "execution_count": 3,
   "metadata": {},
   "outputs": [],
   "source": [
    "def readDNAsequence(file_name):\n",
    "    # Initialize an empty list to store the DNA sequence lines.\n",
    "    sequence_lines = []\n",
    "\n",
    "    with open(file_name, 'r') as FASTA:\n",
    "        skip_header = True  # Flag to skip the header line.\n",
    "        for line in FASTA: # Iterate through each line in the FASTA file.\n",
    "            if skip_header:\n",
    "                skip_header = False\n",
    "                continue  # Skip the header line and move to the next.\n",
    "\n",
    "            \n",
    "            line = line.strip().replace('U', 'T')\n",
    "\n",
    "        \n",
    "            if any(base not in 'ACTG' for base in line):\n",
    "                \n",
    "                raise BadSequenceException(\"Wrong characters in the sequence.\")\n",
    "\n",
    "            # Append the processed line to the sequence_lines list.\n",
    "            sequence_lines.append(line)\n",
    "\n",
    "    # Join the sequence lines into a single string and return it.\n",
    "    return ''.join(sequence_lines)\n"
   ]
  },
  {
   "cell_type": "code",
   "execution_count": 4,
   "metadata": {},
   "outputs": [
    {
     "name": "stdout",
     "output_type": "stream",
     "text": [
      "Sequence: ACTG\n"
     ]
    }
   ],
   "source": [
    "# Create a sample DNA FASTA file\n",
    "with open(\"dna_sequence.fas\", \"wt\") as fasta_file:\n",
    "    fasta_file.write(\"> Example DNA Sequence\\n\")\n",
    "    fasta_file.write(\"ACUG\\n\")\n",
    "\n",
    "# Test the readDNAsequence function\n",
    "_seq = readDNAsequence(\"dna_sequence.fas\")\n",
    "assert type(_seq) is type(\"\"), \"Return value is not a string: %r\" % _seq\n",
    "print(f\"Sequence: {_seq}\")"
   ]
  },
  {
   "cell_type": "markdown",
   "metadata": {},
   "source": [
    "### Computing the complement of a sequence\n",
    "The complement function takes a DNA sequence and returns its complementary sequence by mapping each base (A, T, C, G) to its complement (T, A, G, C). If the sequence contains invalid bases, it raises a BadSequenceException. The test code verifies that the function correctly computes the complement of a given sequence."
   ]
  },
  {
   "cell_type": "code",
   "execution_count": 5,
   "metadata": {},
   "outputs": [],
   "source": [
    "def complement(dna_seq):\n",
    "     # Define a dictionary to map DNA bases to their complementary bases.\n",
    "    complement_dict = {'A': 'T', 'T': 'A', 'C': 'G', 'G': 'C'}\n",
    "\n",
    "    if any(base not in 'ACTG' for base in dna_seq):\n",
    "        raise BadSequenceException(\"Invalid DNA sequence\")\n",
    "\n",
    "    # Construct the complementary sequence by mapping each base to its complement.\n",
    "    compseq = ''.join(complement_dict[base] for base in dna_seq) \n",
    "\n",
    "    return compseq"
   ]
  },
  {
   "cell_type": "code",
   "execution_count": 6,
   "metadata": {},
   "outputs": [
    {
     "name": "stdout",
     "output_type": "stream",
     "text": [
      "Complement: TGCAAAGC\n"
     ]
    }
   ],
   "source": [
    "# Test code\n",
    "_seq=complement(\"ACGTTTCG\")\n",
    "assert type(_seq) is type(\"\"), \"Return value is not a string: %r\" % _seq\n",
    "print(f\"Complement: {_seq}\")"
   ]
  },
  {
   "cell_type": "markdown",
   "metadata": {
    "jupyter": {
     "outputs_hidden": true
    }
   },
   "source": [
    "### Extracting primers\n",
    "The primer function extracts either a forward or reverse primer from a DNA sequence. If the forward argument is True, it returns the first n bases of the sequence as the forward primer. If forward is False, it reverses the sequence, computes the complement, and returns the first n bases of the reverse complement. If the sequence is too short, the function raises a BadSequenceException. The test code checks that the function correctly returns a reverse primer for a given sequence."
   ]
  },
  {
   "cell_type": "code",
   "execution_count": 7,
   "metadata": {
    "tags": []
   },
   "outputs": [],
   "source": [
    "def primer(sequence, length=20, forward=True):\n",
    "    if len(sequence) < length:\n",
    "        raise BadSequenceException(\"Input sequence is too short to generate a primer\")\n",
    "\n",
    "    if forward:\n",
    "        return sequence[:length]\n",
    "    else:\n",
    "        # Reverse the input sequence.\n",
    "        reverse_sequence = sequence[::-1]\n",
    "        complement = {'A': 'T', 'T': 'A', 'C': 'G', 'G': 'C'}\n",
    "        # Generate the reverse primer by mapping and joining the complement of the reversed sequence.\n",
    "        reverse_primer = \"\".join(complement.get(base, base) for base in reverse_sequence[:length])\n",
    "        return reverse_primer"
   ]
  },
  {
   "cell_type": "code",
   "execution_count": 8,
   "metadata": {},
   "outputs": [
    {
     "name": "stdout",
     "output_type": "stream",
     "text": [
      "Reverse Primer: TTTTTCCCCCGGGGGAAAAA\n"
     ]
    }
   ],
   "source": [
    "# Test code\n",
    "_seq=primer(sequence=\"AAAAATTTTTCCCCCGGGGGAAAAA\", length= 20, forward=False)\n",
    "assert type(_seq) is type(\"\"), \"Return value is not a string: %r\" % _seq\n",
    "print(f\"Reverse Primer: {_seq}\")"
   ]
  },
  {
   "cell_type": "markdown",
   "metadata": {},
   "source": [
    "### Computing the melting temperature\n",
    "The meltingTemp function calculates the melting temperature (Tm) of a DNA primer using the formula Tm = 4(G + C) + 2(A + T). This formula counts the number of G and C bases, and A and T bases, in the sequence, and applies the respective coefficients to compute Tm. If invalid bases are found in the sequence, a BadSequenceException is raised. The test ensures that the function computes the melting temperature correctly."
   ]
  },
  {
   "cell_type": "code",
   "execution_count": 9,
   "metadata": {},
   "outputs": [],
   "source": [
    "def meltingTemp(primer):\n",
    "    # Define a string of valid DNA bases.\n",
    "    valid_bases = 'ACTG'\n",
    "    \n",
    "    # Check if all characters in the 'primer' string are valid DNA bases (A, C, T, or G).\n",
    "    if not all(base in valid_bases for base in primer):\n",
    "        \n",
    "        raise BadSequenceException(\"Invalid sequence: Sequence contains characters other than A, C, T, G.\")\n",
    "    \n",
    "    # Count the occurrences of each DNA base in the 'primer' string.\n",
    "    G = primer.count('G')\n",
    "    C = primer.count('C')\n",
    "    A = primer.count('A')\n",
    "    T = primer.count('T')\n",
    "    \n",
    "    # Calculate the melting temperature (Tm) using the formula: Tm = 4(G + C) + 2(A + T)\n",
    "    Tm = 4 * (G + C) + 2 * (A + T)\n",
    "    \n",
    "    return Tm"
   ]
  },
  {
   "cell_type": "code",
   "execution_count": 10,
   "metadata": {},
   "outputs": [
    {
     "name": "stdout",
     "output_type": "stream",
     "text": [
      "Melting Temperature: 60\n"
     ]
    }
   ],
   "source": [
    "# Test code\n",
    "_temp=meltingTemp(\"AAAAATTTTTCCCCCGGGGG\")\n",
    "assert ((type(_temp) is type(0.0)) or\n",
    "        (type(_temp) is type(0))), \"Return value is not a number: %r\" % _temp\n",
    "print(f\"Melting Temperature: {_temp}\")"
   ]
  },
  {
   "cell_type": "markdown",
   "metadata": {},
   "source": [
    "### Putting it all together\n",
    "The sequencePCRtemp function reads a DNA sequence from a FASTA file, extracts both the forward and reverse primers, calculates their melting temperatures, and returns the average melting temperature. The test code verifies that the function computes the correct average melting temperature using a sample sequence."
   ]
  },
  {
   "cell_type": "code",
   "execution_count": 11,
   "metadata": {
    "tags": []
   },
   "outputs": [],
   "source": [
    "def sequencePCRtemp(fasta_file):\n",
    "    # Read the DNA sequence from the file\n",
    "    sequence = readDNAsequence(fasta_file)\n",
    "\n",
    "    # Calculate the forward primer and reverse primer\n",
    "    forward_primer = primer(sequence)\n",
    "    reverse_primer = primer(sequence, forward=False)\n",
    "\n",
    "    # Calculate the melting temperatures for the primers\n",
    "    forward_temp = meltingTemp(forward_primer)\n",
    "    reverse_temp = meltingTemp(reverse_primer)\n",
    "\n",
    "    # Calculate the average melting temperature\n",
    "    avg_temp = (forward_temp + reverse_temp) / 2\n",
    "\n",
    "    return avg_temp"
   ]
  },
  {
   "cell_type": "code",
   "execution_count": 12,
   "metadata": {},
   "outputs": [
    {
     "name": "stdout",
     "output_type": "stream",
     "text": [
      "Average Melting Temperature: 60.0\n"
     ]
    }
   ],
   "source": [
    "# Create a sample DNA FASTA file\n",
    "with open(\"pcr_sequence.fas\", \"wt\") as fasta_file:\n",
    "    fasta_file.write(\"> Example PCR Sequence\\n\")\n",
    "    fasta_file.write(\"AAAAACCCCCTTTTTGGGGGAAAAA\\n\")\n",
    "\n",
    "# Test the sequencePCRtemp function\n",
    "_temp = sequencePCRtemp(\"pcr_sequence.fas\")\n",
    "assert type(_temp) is type(0.0), \"Return value is not a float: %r\" % _temp\n",
    "print(f\"Average Melting Temperature: {_temp}\")"
   ]
  },
  {
   "cell_type": "markdown",
   "metadata": {},
   "source": [
    "# Section 2: Translation and reading frames"
   ]
  },
  {
   "cell_type": "markdown",
   "metadata": {},
   "source": [
    "### Translating a DNA Sequence in All Reading Frames\n",
    "The translate function translates a DNA sequence into protein sequences for all six reading frames (three forward frames and three reverse frames). It uses a codon table to convert DNA triplets into amino acids. For the reverse frames, the function reverses the sequence before translating. The test code verifies that the function outputs a dictionary with correctly translated sequences for all six reading frames."
   ]
  },
  {
   "cell_type": "code",
   "execution_count": 13,
   "metadata": {},
   "outputs": [],
   "source": [
    "def translate(DNA_sequence):\n",
    "  # Define a codon table for DNA to protein translation.\n",
    "    codon_table = {\n",
    "        'TTT': 'F', 'TTC': 'F', 'TTA': 'L', 'TTG': 'L',\n",
    "        'CTT': 'L', 'CTC': 'L', 'CTA': 'L', 'CTG': 'L',\n",
    "        'ATT': 'I', 'ATC': 'I', 'ATA': 'I', 'ATG': 'M',\n",
    "        'GTT': 'V', 'GTC': 'V', 'GTA': 'V', 'GTG': 'V',\n",
    "        'TCT': 'S', 'TCC': 'S', 'TCA': 'S', 'TCG': 'S',\n",
    "        'CCT': 'P', 'CCC': 'P', 'CCA': 'P', 'CCG': 'P',\n",
    "        'ACT': 'T', 'ACC': 'T', 'ACA': 'T', 'ACG': 'T',\n",
    "        'GCT': 'A', 'GCC': 'A', 'GCA': 'A', 'GCG': 'A',\n",
    "        'TAT': 'Y', 'TAC': 'Y', 'TAA': '*', 'TAG': '*',\n",
    "        'CAT': 'H', 'CAC': 'H', 'CAA': 'Q', 'CAG': 'Q',\n",
    "        'AAT': 'N', 'AAC': 'N', 'AAA': 'K', 'AAG': 'K',\n",
    "        'GAT': 'D', 'GAC': 'D', 'GAA': 'E', 'GAG': 'E',\n",
    "        'TGT': 'C', 'TGC': 'C', 'TGA': '*', 'TGG': 'W',\n",
    "        'CGT': 'R', 'CGC': 'R', 'CGA': 'R', 'CGG': 'R',\n",
    "        'AGT': 'S', 'AGC': 'S', 'AGA': 'R', 'AGG': 'R',\n",
    "        'GGT': 'G', 'GGC': 'G', 'GGA': 'G', 'GGG': 'G'\n",
    "    }\n",
    "\n",
    "    # Create a helper function to translate a single frame\n",
    "    def translate_frame(sequence):\n",
    "      # Translate a DNA sequence into a protein sequence for a single frame.\n",
    "        translation = ''.join([codon_table[sequence[i:i+3]] for i in range(0, len(sequence), 3) if i+3 <= len(sequence)])\n",
    "        return translation\n",
    "\n",
    "    frames = {}\n",
    "    # Translate three forward frames.\n",
    "    frames['f1'] = translate_frame(DNA_sequence)\n",
    "    frames['f2'] = translate_frame(DNA_sequence[1:])\n",
    "    frames['f3'] = translate_frame(DNA_sequence[2:])\n",
    "\n",
    "    # Translate three reverse frames.\n",
    "    reversed_sequence = DNA_sequence[::-1]\n",
    "    frames['r1'] = translate_frame(reversed_sequence)\n",
    "    frames['r2'] = translate_frame(reversed_sequence[1:])\n",
    "    frames['r3'] = translate_frame(reversed_sequence[2:])\n",
    "\n",
    "    return frames"
   ]
  },
  {
   "cell_type": "code",
   "execution_count": 14,
   "metadata": {},
   "outputs": [
    {
     "name": "stdout",
     "output_type": "stream",
     "text": [
      "Translated Frames: {'f1': 'TD*LTD*L', 'f2': 'LTD*LTD', 'f3': '*LTD*LT', 'r1': 'VSQSVSQS', 'r2': 'SVSQSVS', 'r3': 'QSVSQSV'}\n"
     ]
    }
   ],
   "source": [
    "# Test code\n",
    "_seqdic=translate(\"ACTGACTGACTGACTGACTGACTG\")\n",
    "assert type(_seqdic)==type(dict()), \"Return value is not a dictionary: %r\" % _seqdic\n",
    "assert set(_seqdic.keys())==set(['f1', 'f2', 'f3', 'r1', 'r2', 'r3']), \\\n",
    "    \"Output dictionary has incorrect/missing keys: %r\"  % _seqdic.keys()\n",
    "assert type(_seqdic['f1'])==type(\"\"), \\\n",
    "    \"Output dictionary values should be strings, not %r\" % type(_seqdic['f1'])\n",
    "print(f\"Translated Frames: {_seqdic}\")"
   ]
  },
  {
   "cell_type": "markdown",
   "metadata": {},
   "source": [
    "### Locating an Open Reading Frame (ORF)\n",
    "\n",
    "The openReadingFrame function identifies and returns the amino acid sequence between the first Methionine (M) and the first stop codon (*). If no start or stop codon is found, the function returns an empty string. The test ensures that the function correctly identifies the open reading frame in a sequence."
   ]
  },
  {
   "cell_type": "code",
   "execution_count": 15,
   "metadata": {},
   "outputs": [],
   "source": [
    "def openReadingFrame(aa_sequence):\n",
    "\n",
    "    # Find the first Methionine (start_codon)\n",
    "    start_codon = aa_sequence.find('M')\n",
    "    \n",
    "    #An empty string is returned, if the STOP codon is not located\n",
    "    if start_codon == -1:\n",
    "        return ''\n",
    "\n",
    "    # Find the first STOP codon after the Methionine\n",
    "    stop_codon = aa_sequence.find('*', start_codon)\n",
    "    \n",
    "    #An empty string is returned, if the STOP codon is not located\n",
    "    if stop_codon == -1:\n",
    "        return ''\n",
    "\n",
    "    return aa_sequence[start_codon:stop_codon]"
   ]
  },
  {
   "cell_type": "code",
   "execution_count": 16,
   "metadata": {},
   "outputs": [
    {
     "name": "stdout",
     "output_type": "stream",
     "text": [
      "ORF: MCAPP\n"
     ]
    }
   ],
   "source": [
    "# Test code\n",
    "_seq=openReadingFrame(\"AMCAPP*L\")\n",
    "assert type(_seq) is type(\"\"), \"Return value is not a string: %r\" % _seq\n",
    "print(f\"ORF: {_seq}\")"
   ]
  },
  {
   "cell_type": "markdown",
   "metadata": {},
   "source": [
    "### Finding the Longest ORF\n",
    "\n",
    "The candidateProtein function scans all six reading frames of a DNA sequence to find the longest ORF. It does this by translating the sequence and using openReadingFrame to identify the ORF in each frame. The function returns the longest one. The test verifies that the function correctly identifies the longest ORF from a given DNA sequence."
   ]
  },
  {
   "cell_type": "code",
   "execution_count": 17,
   "metadata": {
    "tags": []
   },
   "outputs": [],
   "source": [
    "def candidateProtein(DNA_sequence):\n",
    "    # DNA sequence is translated into forward and reverse frames\n",
    "    frames = translate(DNA_sequence)\n",
    "\n",
    "    # Initialize the longest ORF as an empty string\n",
    "    long_ORF = ''\n",
    "\n",
    "    # Iterate through transalted sequences, find the longest ORF, and update long_ORF when a longer ORF is discovered\n",
    "    for _, aa_sequence in frames.items():\n",
    "        ORF = openReadingFrame(aa_sequence)\n",
    "        if len(ORF) > len(long_ORF):\n",
    "            long_ORF = ORF\n",
    "\n",
    "    return long_ORF"
   ]
  },
  {
   "cell_type": "code",
   "execution_count": 18,
   "metadata": {},
   "outputs": [
    {
     "name": "stdout",
     "output_type": "stream",
     "text": [
      "Longest ORF: MTAG\n"
     ]
    }
   ],
   "source": [
    "# Test code\n",
    "_seq=candidateProtein(\"ATGACTGCTGGGTAG\")\n",
    "assert type(_seq) is type(\"\"), \"Return value is not a string: %r\" % _seq\n",
    "print(f\"Longest ORF: {_seq}\")"
   ]
  },
  {
   "cell_type": "markdown",
   "metadata": {},
   "source": [
    "### Writing a FASTA File\n",
    "\n",
    "The writeFASTA function writes an amino acid sequence to a file in FASTA format. It writes the provided description as the FASTA header and ensures that the sequence is formatted into lines of up to 60 characters. The test ensures that the function correctly writes the sequence to a file in the correct format."
   ]
  },
  {
   "cell_type": "code",
   "execution_count": 19,
   "metadata": {},
   "outputs": [],
   "source": [
    "def writeFASTA(sequence, description, filename):\n",
    "    # Define the maximum line length.\n",
    "    line_length = 60\n",
    "    \n",
    "    # Open the specified file in write mode using a context manager.\n",
    "    with open(filename, 'w') as fasta_file:\n",
    "        # Write the description line (header) in FASTA format.\n",
    "        fasta_file.write(\">\" + description + \"\\n\")\n",
    "        \n",
    "        # Iterate through the sequence, breaking it into lines of specified length.\n",
    "        for i in range(0, len(sequence), line_length):\n",
    "            fasta_file.write(sequence[i:i + line_length] + '\\n')"
   ]
  },
  {
   "cell_type": "code",
   "execution_count": 20,
   "metadata": {},
   "outputs": [
    {
     "name": "stdout",
     "output_type": "stream",
     "text": [
      "FASTA file successfully written.\n"
     ]
    }
   ],
   "source": [
    "# Test the writeFASTA function\n",
    "_rv = writeFASTA(sequence=\"TESTTESTTESTTESTTEST\", description=\"test sequence\", filename=\"protein_output.fas\")\n",
    "assert type(_rv) is type(None), \"Function should not return anything; it returns %r\" % _rv\n",
    "_fe = os.path.isfile(\"protein_output.fas\")\n",
    "assert _fe, \"Cannot find output file - has it been created?\"\n",
    "print(\"FASTA file successfully written.\")"
   ]
  },
  {
   "cell_type": "markdown",
   "metadata": {},
   "source": [
    "### Putting it All Together\n",
    "\n",
    "The maximalORF function reads a DNA sequence from an input file, finds the longest ORF, and writes the resulting protein sequence to an output file in FASTA format. The header of the output file is specified by the proteinname argument. The test code confirms that the function successfully writes the longest ORF to a FASTA file."
   ]
  },
  {
   "cell_type": "code",
   "execution_count": 21,
   "metadata": {},
   "outputs": [],
   "source": [
    "def maximalORF(inputfile, outputfile, proteinname):\n",
    "    # Read the DNA sequence from the input file.\n",
    "    DNA_sequence = readDNAsequence(inputfile)\n",
    "\n",
    "    # Find the candidate protein sequence with the longest open reading frame (ORF).\n",
    "    protein_sequence = candidateProtein(DNA_sequence)\n",
    "\n",
    "    # Write the candidate protein sequence in FASTA format to the output file with the provided protein name.\n",
    "    writeFASTA(protein_sequence, proteinname, outputfile)"
   ]
  },
  {
   "cell_type": "code",
   "execution_count": 22,
   "metadata": {},
   "outputs": [
    {
     "name": "stdout",
     "output_type": "stream",
     "text": [
      "FASTA file written for the longest ORF.\n"
     ]
    }
   ],
   "source": [
    "# Create a test DNA sequence for ORF detection\n",
    "with open(\"dna_orf_sequence.fas\", \"wt\") as fasta_file:\n",
    "    fasta_file.write(\"> Example ORF Sequence\\n\")\n",
    "    fasta_file.write(\"ATGACTGCTGGGTAG\\n\")\n",
    "\n",
    "# Test the maximalORF function\n",
    "_rv = maximalORF(inputfile=\"dna_orf_sequence.fas\", outputfile=\"orf_output.fas\", proteinname=\"test protein\")\n",
    "assert type(_rv) is type(None), \"Function should not return anything; it returns %r\" % _rv\n",
    "_fe = os.path.isfile(\"orf_output.fas\")\n",
    "assert _fe, \"Cannot find output file - has it been created?\"\n",
    "print(\"FASTA file written for the longest ORF.\")"
   ]
  },
  {
   "cell_type": "markdown",
   "metadata": {},
   "source": [
    "# Section 3: Classification of aminoacids"
   ]
  },
  {
   "cell_type": "markdown",
   "metadata": {},
   "source": [
    "### Reading an Amino Acid Sequence\n",
    "\n",
    "The readAAsequence function reads an amino acid sequence from a FASTA file, discards the header, and returns the sequence as a string. If the sequence contains any invalid characters, the function raises a BadSequenceException. The test code ensures that the function reads the sequence correctly from a FASTA file."
   ]
  },
  {
   "cell_type": "code",
   "execution_count": 23,
   "metadata": {},
   "outputs": [],
   "source": [
    "def readAAsequence(fasta_file):\n",
    "    # Initialize an empty string to store the amino acid sequence.\n",
    "    sequence = \"\"\n",
    "    \n",
    "    # Define valid amino acids.\n",
    "    valid_aminoacids = \"ABCDEFGHIJKLMNOPQRSTUVWXYZ*\"\n",
    "    \n",
    "    # Check if the specified file exists; if not, raise a FileNotFoundError.\n",
    "    if not os.path.exists(fasta_file):\n",
    "        raise FileNotFoundError(f\"File '{fasta_file}' does not exist.\")\n",
    "    \n",
    "    # Open the FASTA file in read mode using a context manager.\n",
    "    with open(fasta_file, 'r') as FASTA:\n",
    "        in_sequence = False\n",
    "        for line in FASTA:\n",
    "            line = line.strip()\n",
    "            \n",
    "            if line.startswith('>'):\n",
    "                # Ignore lines starting with '>'.\n",
    "                in_sequence = False\n",
    "            elif in_sequence:\n",
    "                # Append the current line to the sequence.\n",
    "                sequence += line\n",
    "            else:\n",
    "                in_sequence = True\n",
    "                sequence += line\n",
    "        \n",
    "        # Check for invalid amino acids in the sequence.\n",
    "        for aminoacid in sequence:\n",
    "            if aminoacid not in valid_aminoacids:\n",
    "                raise BadSequenceException(f\"Incorrect amino acid {aminoacid} has been detected\")\n",
    "    \n",
    "    return sequence"
   ]
  },
  {
   "cell_type": "code",
   "execution_count": 24,
   "metadata": {},
   "outputs": [
    {
     "name": "stdout",
     "output_type": "stream",
     "text": [
      "AA Sequence: MVHLTPEEKSAVTALWGKVNVDEVGGEALGRLLVVYPWTQRFFESFGDLSTPDAVMGNPKV\n"
     ]
    }
   ],
   "source": [
    "# Create a sample amino acid FASTA file\n",
    "with open(\"protein_sequence.fas\", \"wt\") as fasta_file:\n",
    "    fasta_file.write(\"> Example Protein Sequence\\n\")\n",
    "    fasta_file.write(\"MVHLTPEEKSAVTALWGKVNVDEVGGEALGRLLVVYPWTQRFFESFGDLSTPDAVMGNPKV\\n\")\n",
    "\n",
    "# Test the readAAsequence function\n",
    "_seq = readAAsequence(\"protein_sequence.fas\")\n",
    "assert type(_seq) is type(\"\"), \"Return value is not a string: %r\" % _seq\n",
    "print(f\"AA Sequence: {_seq}\")"
   ]
  },
  {
   "cell_type": "markdown",
   "metadata": {},
   "source": [
    "### Amino Acid Usage Statistics\n",
    "\n",
    "The AAtypes function calculates the percentage of polar, small, and hydrophobic amino acids in a given sequence. Since some amino acids belong to multiple categories, the percentages may sum to more than 100%. The test ensures that the function correctly calculates these percentages for a sample sequence."
   ]
  },
  {
   "cell_type": "code",
   "execution_count": 25,
   "metadata": {},
   "outputs": [],
   "source": [
    "def AAtypes(amino_acid_sequence):\n",
    "    # Define sets of amino acids in each category\n",
    "    polar_amino_acids = set(\"YWHKREDQNSTC\")  # Polar amino acids\n",
    "    small_amino_acids = set(\"VCTSGAPDN\")  # Small amino acids\n",
    "    hydrophobic_amino_acids = set(\"ILVMFYWHKTCA\")  # Hydrophobic amino acids\n",
    "\n",
    "    # Initialize counters for each category\n",
    "    polar_count = 0\n",
    "    small_count = 0\n",
    "    hydrophobic_count = 0\n",
    "\n",
    "    # Iterate through the amino acid sequence and count amino acids in each category\n",
    "    for aa in amino_acid_sequence:\n",
    "        if aa in polar_amino_acids:\n",
    "            polar_count += 1\n",
    "        if aa in small_amino_acids:\n",
    "            small_count += 1\n",
    "        if aa in hydrophobic_amino_acids:\n",
    "            hydrophobic_count += 1\n",
    "\n",
    "    # Calculate the total length of the sequence\n",
    "    total_length = len(amino_acid_sequence)\n",
    "\n",
    "    # Calculate the fraction of each category and return as a list\n",
    "    polar_fraction = polar_count / total_length\n",
    "    small_fraction = small_count / total_length\n",
    "    hydrophobic_fraction = hydrophobic_count / total_length\n",
    "\n",
    "    return [polar_fraction, small_fraction, hydrophobic_fraction]"
   ]
  },
  {
   "cell_type": "code",
   "execution_count": 26,
   "metadata": {},
   "outputs": [
    {
     "name": "stdout",
     "output_type": "stream",
     "text": [
      "AA Types: [1.0, 0.75, 0.5]\n"
     ]
    }
   ],
   "source": [
    "# Test code\n",
    "_aatypes=AAtypes(\"TESTTESTTESTTESTTEST\")\n",
    "assert type(_aatypes) is type([]), \"Return value is not a list: %r\" % _aatypes\n",
    "assert len(_aatypes)==3, \"Returned list should contain 3 values\"\n",
    "print(f\"AA Types: {_aatypes}\")"
   ]
  },
  {
   "cell_type": "markdown",
   "metadata": {},
   "source": [
    "### Processing Multiple Sequences\n",
    "\n",
    "The AAtypetable function processes multiple FASTA files, computes the percentages of polar, small, and hydrophobic amino acids for each sequence, and writes the results to a TSV file. If any files cannot be processed (due to missing data or errors), their filenames are returned in a list. The test verifies that the function processes multiple sequences and writes the results correctly to a file."
   ]
  },
  {
   "cell_type": "code",
   "execution_count": 27,
   "metadata": {},
   "outputs": [],
   "source": [
    "def AAtypetable(filelist, outputfile):\n",
    "    \n",
    "    with open(outputfile, 'w') as output:\n",
    "        # Write the column headers\n",
    "        output.write(\"# Filename\\tPolar\\tSmall\\tHydro\\n\")\n",
    "\n",
    "        # Initialize a list to store the names of files with errors\n",
    "        error_files = []\n",
    "\n",
    "        # Iterate through the list of filenames\n",
    "        for filename in filelist:\n",
    "            try:\n",
    "                # Read the amino acid sequence from the file\n",
    "                amino_acid_sequence = readAAsequence(filename)\n",
    "\n",
    "                # Compute the percentages of polar, small, and hydrophobic residues\n",
    "                percentages = AAtypes(amino_acid_sequence)\n",
    "\n",
    "                # Write the results to the output file\n",
    "                output.write(f\"{filename}\\t{percentages[0]:.2f}\\t{percentages[1]:.2f}\\t{percentages[2]:.2f}\\n\")\n",
    "            except Exception as e:\n",
    "                # If there's an error, append the filename to the error_files list\n",
    "                error_files.append(filename)\n",
    "\n",
    "  \n",
    "    return error_files"
   ]
  },
  {
   "cell_type": "code",
   "execution_count": 28,
   "metadata": {},
   "outputs": [
    {
     "name": "stdout",
     "output_type": "stream",
     "text": [
      "Table written with errors: []\n"
     ]
    }
   ],
   "source": [
    "# Create multiple FASTA files for processing\n",
    "for fname in [\"protein_1.fas\", \"protein_2.fas\"]:\n",
    "    with open(fname, \"wt\") as fasta_file:\n",
    "        fasta_file.write(\"> test\\n\")\n",
    "        fasta_file.write(\"TESTTESTTESTTESTTEST\\n\")\n",
    "\n",
    "# Test the AAtypetable function\n",
    "_rv = AAtypetable(filelist=['protein_1.fas', 'protein_2.fas'], outputfile=\"aa_table.txt\")\n",
    "_fe = os.path.isfile(\"aa_table.txt\")\n",
    "assert _fe, \"Cannot find output file - has it been created?\"\n",
    "assert type(_rv) is type([]), \"Function should return a list; it returns %r\" % _rv\n",
    "print(f\"Table written with errors: {_rv}\")"
   ]
  },
  {
   "cell_type": "markdown",
   "metadata": {},
   "source": [
    "# Section 4: Clustering proteins based on aminoacid usage"
   ]
  },
  {
   "cell_type": "markdown",
   "metadata": {},
   "source": [
    "### Computing the Euclidean Distance\n",
    "\n",
    "The distance function computes the Euclidean distance between two lists of floats, representing vectors. If the lists are not the same length, or are both empty, the function raises a DimensionalityException. The test code ensures that the function calculates the distance correctly between two vectors."
   ]
  },
  {
   "cell_type": "code",
   "execution_count": 29,
   "metadata": {},
   "outputs": [],
   "source": [
    "# Run this cell to define the exception\n",
    "class DimensionalityException(Exception):\n",
    "    pass"
   ]
  },
  {
   "cell_type": "code",
   "execution_count": 30,
   "metadata": {},
   "outputs": [],
   "source": [
    "import math\n",
    "\n",
    "def distance(list1, list2):\n",
    "    # Check if the input lists have the same length or are both empty.\n",
    "    if len(list1) != len(list2) or len(list1) == 0:\n",
    "        raise DimensionalityException(\"Both lists are not the same length or empty\")\n",
    "        \n",
    "    # Calculates the Euclidean distance between corresponding elements of list1 and list2, using squared differences and square root.\n",
    "    squared_differences = [(x - y) ** 2 for x, y in zip(list1, list2)]\n",
    "    sum_of_squares = sum(squared_differences)\n",
    "    euclidean_distance = math.sqrt(sum_of_squares)\n",
    "    \n",
    "    return euclidean_distance"
   ]
  },
  {
   "cell_type": "code",
   "execution_count": 31,
   "metadata": {},
   "outputs": [
    {
     "name": "stdout",
     "output_type": "stream",
     "text": [
      "Distance: 3.0413812651491097\n"
     ]
    }
   ],
   "source": [
    "# Test code\n",
    "_dist=distance([1.0, 2.0], [1.5, -1.0])\n",
    "assert type(_dist) is type(0.0), \"Return value is not a float: %r\" % _dist\n",
    "print(f\"Distance: {_dist}\")"
   ]
  },
  {
   "cell_type": "markdown",
   "metadata": {},
   "source": [
    "### Reading Data in Tabular Format\n",
    "\n",
    "The readTable function reads a TSV file that contains amino acid usage statistics and returns a dictionary where each key is a filename and the corresponding value is a list of percentages (polar, small, and hydrophobic amino acids). The test verifies that the function reads and parses the data correctly from a file."
   ]
  },
  {
   "cell_type": "code",
   "execution_count": 32,
   "metadata": {
    "tags": []
   },
   "outputs": [],
   "source": [
    "def readTable(filename):\n",
    "    # Initialize an empty dictionary to store data.\n",
    "    data = {}\n",
    "\n",
    "    with open(filename, 'r') as table_file:\n",
    "        header = table_file.readline().strip().split('\\t')\n",
    "        \n",
    "        # Iterate through the lines in the table file.\n",
    "        for line in table_file:\n",
    "            # Split each line into a list of values by tabs.\n",
    "            values = line.strip().split('\\t')\n",
    "            \n",
    "            # Check if there are at least four values in the line.\n",
    "            if len(values) >= 4:\n",
    "                # Extract the filename and convert the remaining values to floats.\n",
    "                filename = values[0]\n",
    "                percentages = [float(val) for val in values[1:]]\n",
    "\n",
    "                data[filename] = percentages\n",
    "\n",
    "    return data"
   ]
  },
  {
   "cell_type": "code",
   "execution_count": 33,
   "metadata": {},
   "outputs": [
    {
     "name": "stdout",
     "output_type": "stream",
     "text": [
      "Table Data: {'Pxxx.fas': [0.52, 0.22, 0.33], 'Pyyy.fas': [0.47, 0.35, 0.38]}\n"
     ]
    }
   ],
   "source": [
    "# Create a TSV file with amino acid statistics\n",
    "with open(\"protein_table.tsv\", \"wt\") as tsv_file:\n",
    "    tsv_file.write(\"# Filename\\tPolar\\tSmall\\tHydro\\n\")\n",
    "    tsv_file.write(\"Pxxx.fas\\t0.52\\t0.22\\t0.33\\n\")\n",
    "    tsv_file.write(\"Pyyy.fas\\t0.47\\t0.35\\t0.38\\n\")\n",
    "\n",
    "# Test the readTable function\n",
    "_tab = readTable(filename=\"protein_table.tsv\")\n",
    "assert type(_tab) is type({}), \"Return value is not a dict: %r\" % _tab\n",
    "assert (\"Pxxx.fas\" in _tab) and (\"Pyyy.fas\" in _tab), \"Return dict missing keys\"\n",
    "print(f\"Table Data: {_tab}\")"
   ]
  },
  {
   "cell_type": "markdown",
   "metadata": {},
   "source": [
    "### Computing a Distance Matrix\n",
    "\n",
    "The distanceMatrix function reads protein data from a TSV file, computes pairwise Euclidean distances between the proteins, and writes the results to an output file as a matrix. The matrix is symmetric, with zeros on the diagonal (the distance between a protein and itself is zero). The test confirms that the function correctly computes and writes the distance matrix to a file."
   ]
  },
  {
   "cell_type": "code",
   "execution_count": 34,
   "metadata": {},
   "outputs": [],
   "source": [
    "def distanceMatrix(inputfile, outputfile):\n",
    "    # Read the protein data from the input file\n",
    "    protein_data = readTable(inputfile)\n",
    "\n",
    "    # Get the list of protein names from the data\n",
    "    protein_names = list(protein_data.keys())\n",
    "\n",
    "    # Initialize a square matrix filled with zeros\n",
    "    distance_matrix = [[0.0] * len(protein_names) for _ in range(len(protein_names))]\n",
    "\n",
    "    # Compute the distance matrix\n",
    "    for i, protein_1 in enumerate(protein_names):\n",
    "        for j, protein_2 in enumerate(protein_names):\n",
    "            if j < i:\n",
    "                distance_value = distance(protein_data[protein_1], protein_data[protein_2])\n",
    "                distance_matrix[i][j] = distance_value\n",
    "                distance_matrix[j][i] = distance_value\n",
    "\n",
    "    # Open the output file for writing\n",
    "    with open(outputfile, 'w') as output:\n",
    "        # Write the column headers\n",
    "        output.write(\"# Filename\\t\" + \"\\t\".join(protein_names) + \"\\n\")\n",
    "\n",
    "        # Write the distance matrix with formatting\n",
    "        for i, protein_name in enumerate(protein_names):\n",
    "            output.write(protein_name + \"\\t\" + \"\\t\".join(f\"{distance:.2f}\" for distance in distance_matrix[i]) + \"\\n\")"
   ]
  },
  {
   "cell_type": "code",
   "execution_count": 35,
   "metadata": {},
   "outputs": [
    {
     "name": "stdout",
     "output_type": "stream",
     "text": [
      "Distance matrix successfully written.\n"
     ]
    }
   ],
   "source": [
    "# Create a TSV file with amino acid statistics for the distance matrix\n",
    "with open(\"protein_matrix.tsv\", \"wt\") as tsv_file:\n",
    "    tsv_file.write(\"# Filename\\tPolar\\tSmall\\tHydro\\n\")\n",
    "    tsv_file.write(\"Pxxx.fas\\t0.52\\t0.22\\t0.33\\n\")\n",
    "    tsv_file.write(\"Pyyy.fas\\t0.47\\t0.35\\t0.38\\n\")\n",
    "\n",
    "# Test the distanceMatrix function\n",
    "_rv = distanceMatrix(inputfile=\"protein_matrix.tsv\", outputfile=\"distance_matrix.tsv\")\n",
    "_fe = os.path.isfile(\"distance_matrix.tsv\")\n",
    "assert _fe, \"Cannot find output file - has it been created?\"\n",
    "with open(\"distance_matrix.tsv\", \"rt\") as inf:\n",
    "    _fl = inf.readline()\n",
    "assert _fl[0] == '#', \"First line of output file does not start with a #\"\n",
    "print(\"Distance matrix successfully written.\")"
   ]
  }
 ],
 "metadata": {
  "kernelspec": {
   "display_name": "Python 3 (ipykernel)",
   "language": "python",
   "name": "python3"
  },
  "language_info": {
   "codemirror_mode": {
    "name": "ipython",
    "version": 3
   },
   "file_extension": ".py",
   "mimetype": "text/x-python",
   "name": "python",
   "nbconvert_exporter": "python",
   "pygments_lexer": "ipython3",
   "version": "3.11.5"
  }
 },
 "nbformat": 4,
 "nbformat_minor": 4
}
